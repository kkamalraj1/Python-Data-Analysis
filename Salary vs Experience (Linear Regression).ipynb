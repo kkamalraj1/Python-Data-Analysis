{
 "cells": [
  {
   "cell_type": "markdown",
   "metadata": {},
   "source": [
    "# Salary vs Experience Prediction (Linear Regression)"
   ]
  },
  {
   "cell_type": "code",
   "execution_count": 1,
   "metadata": {},
   "outputs": [],
   "source": [
    "import numpy\n",
    "import matplotlib.pyplot as plot\n",
    "import pandas\n",
    "from sklearn.model_selection import train_test_split\n",
    "from sklearn.linear_model import LinearRegression"
   ]
  },
  {
   "cell_type": "code",
   "execution_count": 2,
   "metadata": {},
   "outputs": [],
   "source": [
    "dataset=pandas.read_csv('salaryData.csv')\n",
    "x=dataset.iloc[:, :-1].values\n",
    "y=dataset.iloc[:, :1].values"
   ]
  },
  {
   "cell_type": "code",
   "execution_count": 3,
   "metadata": {},
   "outputs": [
    {
     "data": {
      "text/html": [
       "<div>\n",
       "<style scoped>\n",
       "    .dataframe tbody tr th:only-of-type {\n",
       "        vertical-align: middle;\n",
       "    }\n",
       "\n",
       "    .dataframe tbody tr th {\n",
       "        vertical-align: top;\n",
       "    }\n",
       "\n",
       "    .dataframe thead th {\n",
       "        text-align: right;\n",
       "    }\n",
       "</style>\n",
       "<table border=\"1\" class=\"dataframe\">\n",
       "  <thead>\n",
       "    <tr style=\"text-align: right;\">\n",
       "      <th></th>\n",
       "      <th>YearsExperience</th>\n",
       "      <th>Salary</th>\n",
       "    </tr>\n",
       "  </thead>\n",
       "  <tbody>\n",
       "    <tr>\n",
       "      <th>0</th>\n",
       "      <td>1.1</td>\n",
       "      <td>39343.0</td>\n",
       "    </tr>\n",
       "    <tr>\n",
       "      <th>1</th>\n",
       "      <td>1.3</td>\n",
       "      <td>46205.0</td>\n",
       "    </tr>\n",
       "    <tr>\n",
       "      <th>2</th>\n",
       "      <td>1.5</td>\n",
       "      <td>37731.0</td>\n",
       "    </tr>\n",
       "    <tr>\n",
       "      <th>3</th>\n",
       "      <td>2.0</td>\n",
       "      <td>43525.0</td>\n",
       "    </tr>\n",
       "    <tr>\n",
       "      <th>4</th>\n",
       "      <td>2.2</td>\n",
       "      <td>39891.0</td>\n",
       "    </tr>\n",
       "  </tbody>\n",
       "</table>\n",
       "</div>"
      ],
      "text/plain": [
       "   YearsExperience   Salary\n",
       "0              1.1  39343.0\n",
       "1              1.3  46205.0\n",
       "2              1.5  37731.0\n",
       "3              2.0  43525.0\n",
       "4              2.2  39891.0"
      ]
     },
     "execution_count": 3,
     "metadata": {},
     "output_type": "execute_result"
    }
   ],
   "source": [
    "dataset.head()"
   ]
  },
  {
   "cell_type": "code",
   "execution_count": 4,
   "metadata": {},
   "outputs": [],
   "source": [
    "xTrain, xTest, yTrain, yTest = train_test_split(x, y, test_size = 1/3, random_state = 0)"
   ]
  },
  {
   "cell_type": "code",
   "execution_count": 5,
   "metadata": {},
   "outputs": [
    {
     "name": "stdout",
     "output_type": "stream",
     "text": [
      "20\n",
      "10\n"
     ]
    }
   ],
   "source": [
    "print(xTrain.size)\n",
    "print(xTest.size)"
   ]
  },
  {
   "cell_type": "code",
   "execution_count": 6,
   "metadata": {},
   "outputs": [
    {
     "name": "stdout",
     "output_type": "stream",
     "text": [
      "xTrain : [[ 2.9]\n",
      " [ 5.1]\n",
      " [ 3.2]\n",
      " [ 4.5]\n",
      " [ 8.2]\n",
      " [ 6.8]\n",
      " [ 1.3]\n",
      " [10.5]\n",
      " [ 3. ]\n",
      " [ 2.2]\n",
      " [ 5.9]\n",
      " [ 6. ]\n",
      " [ 3.7]\n",
      " [ 3.2]\n",
      " [ 9. ]\n",
      " [ 2. ]\n",
      " [ 1.1]\n",
      " [ 7.1]\n",
      " [ 4.9]\n",
      " [ 4. ]]\n",
      "xTest : [[ 1.5]\n",
      " [10.3]\n",
      " [ 4.1]\n",
      " [ 3.9]\n",
      " [ 9.5]\n",
      " [ 8.7]\n",
      " [ 9.6]\n",
      " [ 4. ]\n",
      " [ 5.3]\n",
      " [ 7.9]]\n",
      "yTrain : [[ 2.9]\n",
      " [ 5.1]\n",
      " [ 3.2]\n",
      " [ 4.5]\n",
      " [ 8.2]\n",
      " [ 6.8]\n",
      " [ 1.3]\n",
      " [10.5]\n",
      " [ 3. ]\n",
      " [ 2.2]\n",
      " [ 5.9]\n",
      " [ 6. ]\n",
      " [ 3.7]\n",
      " [ 3.2]\n",
      " [ 9. ]\n",
      " [ 2. ]\n",
      " [ 1.1]\n",
      " [ 7.1]\n",
      " [ 4.9]\n",
      " [ 4. ]]\n",
      "yTest : [[ 1.5]\n",
      " [10.3]\n",
      " [ 4.1]\n",
      " [ 3.9]\n",
      " [ 9.5]\n",
      " [ 8.7]\n",
      " [ 9.6]\n",
      " [ 4. ]\n",
      " [ 5.3]\n",
      " [ 7.9]]\n"
     ]
    }
   ],
   "source": [
    "print ('xTrain :',xTrain)\n",
    "print ('xTest :',xTest)\n",
    "print ('yTrain :',yTrain)\n",
    "print ('yTest :',yTest)"
   ]
  },
  {
   "cell_type": "code",
   "execution_count": 7,
   "metadata": {},
   "outputs": [
    {
     "data": {
      "text/plain": [
       "LinearRegression(copy_X=True, fit_intercept=True, n_jobs=None,\n",
       "         normalize=False)"
      ]
     },
     "execution_count": 7,
     "metadata": {},
     "output_type": "execute_result"
    }
   ],
   "source": [
    "linearRegressor = LinearRegression()\n",
    "linearRegressor.fit(xTrain,yTrain)"
   ]
  },
  {
   "cell_type": "code",
   "execution_count": 8,
   "metadata": {},
   "outputs": [],
   "source": [
    "yPrediction = linearRegressor.predict(xTest)"
   ]
  },
  {
   "cell_type": "code",
   "execution_count": 9,
   "metadata": {},
   "outputs": [
    {
     "name": "stdout",
     "output_type": "stream",
     "text": [
      "Coefficients: \n",
      " [[1.]]\n",
      "Interceptor: \n",
      " [8.8817842e-16]\n"
     ]
    }
   ],
   "source": [
    "print(\"Coefficients: \\n\", linearRegressor.coef_)\n",
    "print(\"Interceptor: \\n\", linearRegressor.intercept_)"
   ]
  },
  {
   "cell_type": "code",
   "execution_count": 10,
   "metadata": {},
   "outputs": [
    {
     "data": {
      "text/plain": [
       "Text(0, 0.5, 'Salary')"
      ]
     },
     "execution_count": 10,
     "metadata": {},
     "output_type": "execute_result"
    },
    {
     "data": {
      "image/png": "[encoded data removed]",
      "text/plain": [
       "<Figure size 432x288 with 1 Axes>"
      ]
     },
     "metadata": {
      "needs_background": "light"
     },
     "output_type": "display_data"
    }
   ],
   "source": [
    "plot.scatter (xTrain, yTrain, color= 'Red')\n",
    "plot.plot(xTrain, linearRegressor.predict(xTrain), color = 'Blue')\n",
    "plot.title ('Salary vs Experience (Training Set)')\n",
    "plot.xlabel ('Years of Experience')\n",
    "plot.ylabel ('Salary')"
   ]
  },
  {
   "cell_type": "code",
   "execution_count": 11,
   "metadata": {},
   "outputs": [
    {
     "data": {
      "text/plain": [
       "Text(0, 0.5, 'Salary')"
      ]
     },
     "execution_count": 11,
     "metadata": {},
     "output_type": "execute_result"
    },
    {
     "data": {
      "image/png": "[encoded data removed]",
      "text/plain": [
       "<Figure size 432x288 with 1 Axes>"
      ]
     },
     "metadata": {
      "needs_background": "light"
     },
     "output_type": "display_data"
    }
   ],
   "source": [
    "plot.scatter (xTest, yTest, color = 'Red')\n",
    "plot.plot(xTrain, linearRegressor.predict(xTrain), color = 'Blue')\n",
    "plot.title ('Salary vs Experience (Test set)')\n",
    "plot.xlabel (\"Years of Experience\")\n",
    "plot.ylabel (\"Salary\")"
   ]
  }
 ],
 "metadata": {
  "kernelspec": {
   "display_name": "Python 3",
   "language": "python",
   "name": "python3"
  },
  "language_info": {
   "codemirror_mode": {
    "name": "ipython",
    "version": 3
   },
   "file_extension": ".py",
   "mimetype": "text/x-python",
   "name": "python",
   "nbconvert_exporter": "python",
   "pygments_lexer": "ipython3",
   "version": "3.7.3"
  }
 },
 "nbformat": 4,
 "nbformat_minor": 2
}
